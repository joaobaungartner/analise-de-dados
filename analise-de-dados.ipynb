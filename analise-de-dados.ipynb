{
 "cells": [
  {
   "cell_type": "markdown",
   "id": "27f3347f",
   "metadata": {},
   "source": [
    "# Definição do problema:"
   ]
  },
  {
   "cell_type": "markdown",
   "id": "9b62f3a3",
   "metadata": {},
   "source": [
    "Otimizar decisões estratégicas e melhorar a eficiência operacional, com foco em maximizar o desempenho da empresa, pensando, principalmente, em solucionar as dores do cliente"
   ]
  },
  {
   "cell_type": "markdown",
   "id": "3623a4cf",
   "metadata": {},
   "source": [
    "# Importação dos dados:"
   ]
  },
  {
   "cell_type": "code",
   "execution_count": 51,
   "id": "3de63271",
   "metadata": {},
   "outputs": [],
   "source": [
    "import matplotlib.pyplot as plt\n",
    "import seaborn as sns"
   ]
  },
  {
   "cell_type": "code",
   "execution_count": 122,
   "id": "4609e6d9",
   "metadata": {},
   "outputs": [
    {
     "data": {
      "text/html": [
       "<div>\n",
       "<style scoped>\n",
       "    .dataframe tbody tr th:only-of-type {\n",
       "        vertical-align: middle;\n",
       "    }\n",
       "\n",
       "    .dataframe tbody tr th {\n",
       "        vertical-align: top;\n",
       "    }\n",
       "\n",
       "    .dataframe thead th {\n",
       "        text-align: right;\n",
       "    }\n",
       "</style>\n",
       "<table border=\"1\" class=\"dataframe\">\n",
       "  <thead>\n",
       "    <tr style=\"text-align: right;\">\n",
       "      <th></th>\n",
       "      <th>macro_bairro</th>\n",
       "      <th>nome_cliente</th>\n",
       "      <th>bairro_destino</th>\n",
       "      <th>order_datetime</th>\n",
       "      <th>platform</th>\n",
       "      <th>order_mode</th>\n",
       "      <th>distance_km</th>\n",
       "      <th>tempo_preparo_minutos</th>\n",
       "      <th>status</th>\n",
       "      <th>eta_minutes_quote</th>\n",
       "      <th>actual_delivery_minutes</th>\n",
       "      <th>total_brl</th>\n",
       "      <th>classe_pedido</th>\n",
       "      <th>platform_commission_pct</th>\n",
       "      <th>num_itens</th>\n",
       "      <th>satisfacao_nivel</th>\n",
       "    </tr>\n",
       "  </thead>\n",
       "  <tbody>\n",
       "    <tr>\n",
       "      <th>0</th>\n",
       "      <td>Outros</td>\n",
       "      <td>Júlia Ramos</td>\n",
       "      <td>Bela Vista</td>\n",
       "      <td>2024-01-01 15:08:00</td>\n",
       "      <td>rappi</td>\n",
       "      <td>delivery</td>\n",
       "      <td>6.916192</td>\n",
       "      <td>34</td>\n",
       "      <td>delivered</td>\n",
       "      <td>50</td>\n",
       "      <td>62.4</td>\n",
       "      <td>288.01</td>\n",
       "      <td>familia</td>\n",
       "      <td>0.16</td>\n",
       "      <td>8</td>\n",
       "      <td>3</td>\n",
       "    </tr>\n",
       "    <tr>\n",
       "      <th>1</th>\n",
       "      <td>Santo Amaro</td>\n",
       "      <td>Gustavo R. Rezende</td>\n",
       "      <td>Santo Amaro</td>\n",
       "      <td>2024-01-02 07:49:00</td>\n",
       "      <td>ifood</td>\n",
       "      <td>delivery</td>\n",
       "      <td>5.753085</td>\n",
       "      <td>16</td>\n",
       "      <td>delivered</td>\n",
       "      <td>45</td>\n",
       "      <td>35.6</td>\n",
       "      <td>125.02</td>\n",
       "      <td>combo</td>\n",
       "      <td>0.16</td>\n",
       "      <td>3</td>\n",
       "      <td>5</td>\n",
       "    </tr>\n",
       "    <tr>\n",
       "      <th>2</th>\n",
       "      <td>Jardins</td>\n",
       "      <td>Valentina Y. Oliveira</td>\n",
       "      <td>Jardins</td>\n",
       "      <td>2024-01-02 10:14:00</td>\n",
       "      <td>ifood</td>\n",
       "      <td>delivery</td>\n",
       "      <td>4.545672</td>\n",
       "      <td>15</td>\n",
       "      <td>delivered</td>\n",
       "      <td>43</td>\n",
       "      <td>34.5</td>\n",
       "      <td>110.76</td>\n",
       "      <td>combo</td>\n",
       "      <td>0.12</td>\n",
       "      <td>4</td>\n",
       "      <td>5</td>\n",
       "    </tr>\n",
       "    <tr>\n",
       "      <th>3</th>\n",
       "      <td>Vila Olímpia</td>\n",
       "      <td>Mariana Moreira</td>\n",
       "      <td>Vila Olímpia</td>\n",
       "      <td>2024-01-02 10:58:00</td>\n",
       "      <td>site_proprio</td>\n",
       "      <td>retirada</td>\n",
       "      <td>0.059679</td>\n",
       "      <td>6</td>\n",
       "      <td>delivered</td>\n",
       "      <td>19</td>\n",
       "      <td>14.4</td>\n",
       "      <td>45.16</td>\n",
       "      <td>prato_unico</td>\n",
       "      <td>0.00</td>\n",
       "      <td>1</td>\n",
       "      <td>5</td>\n",
       "    </tr>\n",
       "    <tr>\n",
       "      <th>4</th>\n",
       "      <td>Moema</td>\n",
       "      <td>Daniel Rocha</td>\n",
       "      <td>Ibirapuera</td>\n",
       "      <td>2024-01-02 12:56:00</td>\n",
       "      <td>site_proprio</td>\n",
       "      <td>retirada</td>\n",
       "      <td>0.102063</td>\n",
       "      <td>25</td>\n",
       "      <td>delivered</td>\n",
       "      <td>28</td>\n",
       "      <td>26.6</td>\n",
       "      <td>123.12</td>\n",
       "      <td>combo</td>\n",
       "      <td>0.00</td>\n",
       "      <td>3</td>\n",
       "      <td>5</td>\n",
       "    </tr>\n",
       "    <tr>\n",
       "      <th>...</th>\n",
       "      <td>...</td>\n",
       "      <td>...</td>\n",
       "      <td>...</td>\n",
       "      <td>...</td>\n",
       "      <td>...</td>\n",
       "      <td>...</td>\n",
       "      <td>...</td>\n",
       "      <td>...</td>\n",
       "      <td>...</td>\n",
       "      <td>...</td>\n",
       "      <td>...</td>\n",
       "      <td>...</td>\n",
       "      <td>...</td>\n",
       "      <td>...</td>\n",
       "      <td>...</td>\n",
       "      <td>...</td>\n",
       "    </tr>\n",
       "    <tr>\n",
       "      <th>4995</th>\n",
       "      <td>Moema</td>\n",
       "      <td>Natália G. Souza</td>\n",
       "      <td>Ibirapuera</td>\n",
       "      <td>2024-12-31 17:17:00</td>\n",
       "      <td>rappi</td>\n",
       "      <td>delivery</td>\n",
       "      <td>3.231895</td>\n",
       "      <td>17</td>\n",
       "      <td>delivered</td>\n",
       "      <td>37</td>\n",
       "      <td>29.0</td>\n",
       "      <td>56.43</td>\n",
       "      <td>prato_unico</td>\n",
       "      <td>0.16</td>\n",
       "      <td>3</td>\n",
       "      <td>5</td>\n",
       "    </tr>\n",
       "    <tr>\n",
       "      <th>4996</th>\n",
       "      <td>Morumbi</td>\n",
       "      <td>Yasmin N. Ribeiro</td>\n",
       "      <td>Morumbi</td>\n",
       "      <td>2024-12-31 19:33:00</td>\n",
       "      <td>whatsapp</td>\n",
       "      <td>retirada</td>\n",
       "      <td>0.218583</td>\n",
       "      <td>6</td>\n",
       "      <td>delivered</td>\n",
       "      <td>18</td>\n",
       "      <td>10.7</td>\n",
       "      <td>75.58</td>\n",
       "      <td>prato_unico</td>\n",
       "      <td>0.00</td>\n",
       "      <td>2</td>\n",
       "      <td>5</td>\n",
       "    </tr>\n",
       "    <tr>\n",
       "      <th>4997</th>\n",
       "      <td>Pinheiros</td>\n",
       "      <td>Yuri Castro</td>\n",
       "      <td>Pinheiros</td>\n",
       "      <td>2024-12-31 20:12:00</td>\n",
       "      <td>ifood</td>\n",
       "      <td>delivery</td>\n",
       "      <td>6.389462</td>\n",
       "      <td>28</td>\n",
       "      <td>canceled</td>\n",
       "      <td>47</td>\n",
       "      <td>67.1</td>\n",
       "      <td>145.75</td>\n",
       "      <td>combo</td>\n",
       "      <td>0.16</td>\n",
       "      <td>4</td>\n",
       "      <td>2</td>\n",
       "    </tr>\n",
       "    <tr>\n",
       "      <th>4998</th>\n",
       "      <td>Itaim</td>\n",
       "      <td>Henrique J. Ferreira</td>\n",
       "      <td>Itaim Bibi</td>\n",
       "      <td>2024-12-31 21:14:00</td>\n",
       "      <td>ifood</td>\n",
       "      <td>delivery</td>\n",
       "      <td>4.148569</td>\n",
       "      <td>14</td>\n",
       "      <td>delivered</td>\n",
       "      <td>40</td>\n",
       "      <td>32.9</td>\n",
       "      <td>61.36</td>\n",
       "      <td>prato_unico</td>\n",
       "      <td>0.16</td>\n",
       "      <td>1</td>\n",
       "      <td>5</td>\n",
       "    </tr>\n",
       "    <tr>\n",
       "      <th>4999</th>\n",
       "      <td>Itaim</td>\n",
       "      <td>Helena Duarte</td>\n",
       "      <td>Itaim Bibi</td>\n",
       "      <td>2024-12-31 21:27:00</td>\n",
       "      <td>whatsapp</td>\n",
       "      <td>retirada</td>\n",
       "      <td>0.286058</td>\n",
       "      <td>23</td>\n",
       "      <td>delivered</td>\n",
       "      <td>29</td>\n",
       "      <td>21.8</td>\n",
       "      <td>87.40</td>\n",
       "      <td>combo</td>\n",
       "      <td>0.00</td>\n",
       "      <td>1</td>\n",
       "      <td>5</td>\n",
       "    </tr>\n",
       "  </tbody>\n",
       "</table>\n",
       "<p>5000 rows × 16 columns</p>\n",
       "</div>"
      ],
      "text/plain": [
       "      macro_bairro           nome_cliente bairro_destino      order_datetime  \\\n",
       "0           Outros            Júlia Ramos     Bela Vista 2024-01-01 15:08:00   \n",
       "1      Santo Amaro     Gustavo R. Rezende    Santo Amaro 2024-01-02 07:49:00   \n",
       "2          Jardins  Valentina Y. Oliveira        Jardins 2024-01-02 10:14:00   \n",
       "3     Vila Olímpia        Mariana Moreira   Vila Olímpia 2024-01-02 10:58:00   \n",
       "4            Moema           Daniel Rocha     Ibirapuera 2024-01-02 12:56:00   \n",
       "...            ...                    ...            ...                 ...   \n",
       "4995         Moema       Natália G. Souza     Ibirapuera 2024-12-31 17:17:00   \n",
       "4996       Morumbi      Yasmin N. Ribeiro        Morumbi 2024-12-31 19:33:00   \n",
       "4997     Pinheiros            Yuri Castro      Pinheiros 2024-12-31 20:12:00   \n",
       "4998         Itaim   Henrique J. Ferreira     Itaim Bibi 2024-12-31 21:14:00   \n",
       "4999         Itaim          Helena Duarte     Itaim Bibi 2024-12-31 21:27:00   \n",
       "\n",
       "          platform order_mode  distance_km  tempo_preparo_minutos     status  \\\n",
       "0            rappi   delivery     6.916192                     34  delivered   \n",
       "1            ifood   delivery     5.753085                     16  delivered   \n",
       "2            ifood   delivery     4.545672                     15  delivered   \n",
       "3     site_proprio   retirada     0.059679                      6  delivered   \n",
       "4     site_proprio   retirada     0.102063                     25  delivered   \n",
       "...            ...        ...          ...                    ...        ...   \n",
       "4995         rappi   delivery     3.231895                     17  delivered   \n",
       "4996      whatsapp   retirada     0.218583                      6  delivered   \n",
       "4997         ifood   delivery     6.389462                     28   canceled   \n",
       "4998         ifood   delivery     4.148569                     14  delivered   \n",
       "4999      whatsapp   retirada     0.286058                     23  delivered   \n",
       "\n",
       "      eta_minutes_quote  actual_delivery_minutes  total_brl classe_pedido  \\\n",
       "0                    50                     62.4     288.01       familia   \n",
       "1                    45                     35.6     125.02         combo   \n",
       "2                    43                     34.5     110.76         combo   \n",
       "3                    19                     14.4      45.16   prato_unico   \n",
       "4                    28                     26.6     123.12         combo   \n",
       "...                 ...                      ...        ...           ...   \n",
       "4995                 37                     29.0      56.43   prato_unico   \n",
       "4996                 18                     10.7      75.58   prato_unico   \n",
       "4997                 47                     67.1     145.75         combo   \n",
       "4998                 40                     32.9      61.36   prato_unico   \n",
       "4999                 29                     21.8      87.40         combo   \n",
       "\n",
       "      platform_commission_pct  num_itens  satisfacao_nivel  \n",
       "0                        0.16          8                 3  \n",
       "1                        0.16          3                 5  \n",
       "2                        0.12          4                 5  \n",
       "3                        0.00          1                 5  \n",
       "4                        0.00          3                 5  \n",
       "...                       ...        ...               ...  \n",
       "4995                     0.16          3                 5  \n",
       "4996                     0.00          2                 5  \n",
       "4997                     0.16          4                 2  \n",
       "4998                     0.16          1                 5  \n",
       "4999                     0.00          1                 5  \n",
       "\n",
       "[5000 rows x 16 columns]"
      ]
     },
     "execution_count": 122,
     "metadata": {},
     "output_type": "execute_result"
    }
   ],
   "source": [
    "import pandas as pd\n",
    "df = pd.read_excel('Base_Kaiserhaus.xlsx')\n",
    "df"
   ]
  },
  {
   "cell_type": "markdown",
   "id": "c47874ed",
   "metadata": {},
   "source": [
    "# Tratamento de dados"
   ]
  },
  {
   "cell_type": "code",
   "execution_count": 53,
   "id": "652a0cca",
   "metadata": {},
   "outputs": [
    {
     "data": {
      "text/plain": [
       "macro_bairro                 0\n",
       "nome_cliente                 0\n",
       "bairro_destino               0\n",
       "order_datetime               0\n",
       "platform                     0\n",
       "order_mode                   0\n",
       "distance_km                323\n",
       "tempo_preparo_minutos        0\n",
       "status                       0\n",
       "eta_minutes_quote            0\n",
       "actual_delivery_minutes    200\n",
       "total_brl                    0\n",
       "classe_pedido                0\n",
       "platform_commission_pct      0\n",
       "num_itens                    0\n",
       "satisfacao_nivel             0\n",
       "dtype: int64"
      ]
     },
     "execution_count": 53,
     "metadata": {},
     "output_type": "execute_result"
    }
   ],
   "source": [
    "df.isnull().sum()"
   ]
  },
  {
   "cell_type": "code",
   "execution_count": 123,
   "id": "cc649141",
   "metadata": {},
   "outputs": [
    {
     "data": {
      "text/plain": [
       "macro_bairro               0\n",
       "nome_cliente               0\n",
       "bairro_destino             0\n",
       "order_datetime             0\n",
       "platform                   0\n",
       "order_mode                 0\n",
       "distance_km                0\n",
       "tempo_preparo_minutos      0\n",
       "status                     0\n",
       "eta_minutes_quote          0\n",
       "actual_delivery_minutes    0\n",
       "total_brl                  0\n",
       "classe_pedido              0\n",
       "platform_commission_pct    0\n",
       "num_itens                  0\n",
       "satisfacao_nivel           0\n",
       "dtype: int64"
      ]
     },
     "execution_count": 123,
     "metadata": {},
     "output_type": "execute_result"
    }
   ],
   "source": [
    "numeric_cols = df.select_dtypes(include='number').columns\n",
    "df[numeric_cols] = df[numeric_cols].fillna(df[numeric_cols].mean())\n",
    "df.isnull().sum()"
   ]
  },
  {
   "cell_type": "code",
   "execution_count": 55,
   "id": "7fef1d90",
   "metadata": {},
   "outputs": [
    {
     "data": {
      "text/html": [
       "<div>\n",
       "<style scoped>\n",
       "    .dataframe tbody tr th:only-of-type {\n",
       "        vertical-align: middle;\n",
       "    }\n",
       "\n",
       "    .dataframe tbody tr th {\n",
       "        vertical-align: top;\n",
       "    }\n",
       "\n",
       "    .dataframe thead th {\n",
       "        text-align: right;\n",
       "    }\n",
       "</style>\n",
       "<table border=\"1\" class=\"dataframe\">\n",
       "  <thead>\n",
       "    <tr style=\"text-align: right;\">\n",
       "      <th></th>\n",
       "      <th>macro_bairro</th>\n",
       "      <th>nome_cliente</th>\n",
       "      <th>bairro_destino</th>\n",
       "      <th>order_datetime</th>\n",
       "      <th>platform</th>\n",
       "      <th>order_mode</th>\n",
       "      <th>distance_km</th>\n",
       "      <th>tempo_preparo_minutos</th>\n",
       "      <th>status</th>\n",
       "      <th>eta_minutes_quote</th>\n",
       "      <th>actual_delivery_minutes</th>\n",
       "      <th>total_brl</th>\n",
       "      <th>classe_pedido</th>\n",
       "      <th>platform_commission_pct</th>\n",
       "      <th>num_itens</th>\n",
       "      <th>satisfacao_nivel</th>\n",
       "    </tr>\n",
       "  </thead>\n",
       "  <tbody>\n",
       "    <tr>\n",
       "      <th>0</th>\n",
       "      <td>Outros</td>\n",
       "      <td>Júlia Ramos</td>\n",
       "      <td>Bela Vista</td>\n",
       "      <td>2024-01-01 15:08:00</td>\n",
       "      <td>rappi</td>\n",
       "      <td>delivery</td>\n",
       "      <td>6.916192</td>\n",
       "      <td>34</td>\n",
       "      <td>delivered</td>\n",
       "      <td>50</td>\n",
       "      <td>62.4</td>\n",
       "      <td>288.01</td>\n",
       "      <td>familia</td>\n",
       "      <td>0.16</td>\n",
       "      <td>8</td>\n",
       "      <td>3</td>\n",
       "    </tr>\n",
       "    <tr>\n",
       "      <th>1</th>\n",
       "      <td>Santo Amaro</td>\n",
       "      <td>Gustavo R. Rezende</td>\n",
       "      <td>Santo Amaro</td>\n",
       "      <td>2024-01-02 07:49:00</td>\n",
       "      <td>ifood</td>\n",
       "      <td>delivery</td>\n",
       "      <td>5.753085</td>\n",
       "      <td>16</td>\n",
       "      <td>delivered</td>\n",
       "      <td>45</td>\n",
       "      <td>35.6</td>\n",
       "      <td>125.02</td>\n",
       "      <td>combo</td>\n",
       "      <td>0.16</td>\n",
       "      <td>3</td>\n",
       "      <td>5</td>\n",
       "    </tr>\n",
       "    <tr>\n",
       "      <th>2</th>\n",
       "      <td>Jardins</td>\n",
       "      <td>Valentina Y. Oliveira</td>\n",
       "      <td>Jardins</td>\n",
       "      <td>2024-01-02 10:14:00</td>\n",
       "      <td>ifood</td>\n",
       "      <td>delivery</td>\n",
       "      <td>4.545672</td>\n",
       "      <td>15</td>\n",
       "      <td>delivered</td>\n",
       "      <td>43</td>\n",
       "      <td>34.5</td>\n",
       "      <td>110.76</td>\n",
       "      <td>combo</td>\n",
       "      <td>0.12</td>\n",
       "      <td>4</td>\n",
       "      <td>5</td>\n",
       "    </tr>\n",
       "    <tr>\n",
       "      <th>3</th>\n",
       "      <td>Vila Olímpia</td>\n",
       "      <td>Mariana Moreira</td>\n",
       "      <td>Vila Olímpia</td>\n",
       "      <td>2024-01-02 10:58:00</td>\n",
       "      <td>site_proprio</td>\n",
       "      <td>retirada</td>\n",
       "      <td>0.059679</td>\n",
       "      <td>6</td>\n",
       "      <td>delivered</td>\n",
       "      <td>19</td>\n",
       "      <td>14.4</td>\n",
       "      <td>45.16</td>\n",
       "      <td>prato_unico</td>\n",
       "      <td>0.00</td>\n",
       "      <td>1</td>\n",
       "      <td>5</td>\n",
       "    </tr>\n",
       "    <tr>\n",
       "      <th>4</th>\n",
       "      <td>Moema</td>\n",
       "      <td>Daniel Rocha</td>\n",
       "      <td>Ibirapuera</td>\n",
       "      <td>2024-01-02 12:56:00</td>\n",
       "      <td>site_proprio</td>\n",
       "      <td>retirada</td>\n",
       "      <td>0.102063</td>\n",
       "      <td>25</td>\n",
       "      <td>delivered</td>\n",
       "      <td>28</td>\n",
       "      <td>26.6</td>\n",
       "      <td>123.12</td>\n",
       "      <td>combo</td>\n",
       "      <td>0.00</td>\n",
       "      <td>3</td>\n",
       "      <td>5</td>\n",
       "    </tr>\n",
       "    <tr>\n",
       "      <th>...</th>\n",
       "      <td>...</td>\n",
       "      <td>...</td>\n",
       "      <td>...</td>\n",
       "      <td>...</td>\n",
       "      <td>...</td>\n",
       "      <td>...</td>\n",
       "      <td>...</td>\n",
       "      <td>...</td>\n",
       "      <td>...</td>\n",
       "      <td>...</td>\n",
       "      <td>...</td>\n",
       "      <td>...</td>\n",
       "      <td>...</td>\n",
       "      <td>...</td>\n",
       "      <td>...</td>\n",
       "      <td>...</td>\n",
       "    </tr>\n",
       "    <tr>\n",
       "      <th>4995</th>\n",
       "      <td>Moema</td>\n",
       "      <td>Natália G. Souza</td>\n",
       "      <td>Ibirapuera</td>\n",
       "      <td>2024-12-31 17:17:00</td>\n",
       "      <td>rappi</td>\n",
       "      <td>delivery</td>\n",
       "      <td>3.231895</td>\n",
       "      <td>17</td>\n",
       "      <td>delivered</td>\n",
       "      <td>37</td>\n",
       "      <td>29.0</td>\n",
       "      <td>56.43</td>\n",
       "      <td>prato_unico</td>\n",
       "      <td>0.16</td>\n",
       "      <td>3</td>\n",
       "      <td>5</td>\n",
       "    </tr>\n",
       "    <tr>\n",
       "      <th>4996</th>\n",
       "      <td>Morumbi</td>\n",
       "      <td>Yasmin N. Ribeiro</td>\n",
       "      <td>Morumbi</td>\n",
       "      <td>2024-12-31 19:33:00</td>\n",
       "      <td>whatsapp</td>\n",
       "      <td>retirada</td>\n",
       "      <td>0.218583</td>\n",
       "      <td>6</td>\n",
       "      <td>delivered</td>\n",
       "      <td>18</td>\n",
       "      <td>10.7</td>\n",
       "      <td>75.58</td>\n",
       "      <td>prato_unico</td>\n",
       "      <td>0.00</td>\n",
       "      <td>2</td>\n",
       "      <td>5</td>\n",
       "    </tr>\n",
       "    <tr>\n",
       "      <th>4997</th>\n",
       "      <td>Pinheiros</td>\n",
       "      <td>Yuri Castro</td>\n",
       "      <td>Pinheiros</td>\n",
       "      <td>2024-12-31 20:12:00</td>\n",
       "      <td>ifood</td>\n",
       "      <td>delivery</td>\n",
       "      <td>6.389462</td>\n",
       "      <td>28</td>\n",
       "      <td>canceled</td>\n",
       "      <td>47</td>\n",
       "      <td>67.1</td>\n",
       "      <td>145.75</td>\n",
       "      <td>combo</td>\n",
       "      <td>0.16</td>\n",
       "      <td>4</td>\n",
       "      <td>2</td>\n",
       "    </tr>\n",
       "    <tr>\n",
       "      <th>4998</th>\n",
       "      <td>Itaim</td>\n",
       "      <td>Henrique J. Ferreira</td>\n",
       "      <td>Itaim Bibi</td>\n",
       "      <td>2024-12-31 21:14:00</td>\n",
       "      <td>ifood</td>\n",
       "      <td>delivery</td>\n",
       "      <td>4.148569</td>\n",
       "      <td>14</td>\n",
       "      <td>delivered</td>\n",
       "      <td>40</td>\n",
       "      <td>32.9</td>\n",
       "      <td>61.36</td>\n",
       "      <td>prato_unico</td>\n",
       "      <td>0.16</td>\n",
       "      <td>1</td>\n",
       "      <td>5</td>\n",
       "    </tr>\n",
       "    <tr>\n",
       "      <th>4999</th>\n",
       "      <td>Itaim</td>\n",
       "      <td>Helena Duarte</td>\n",
       "      <td>Itaim Bibi</td>\n",
       "      <td>2024-12-31 21:27:00</td>\n",
       "      <td>whatsapp</td>\n",
       "      <td>retirada</td>\n",
       "      <td>0.286058</td>\n",
       "      <td>23</td>\n",
       "      <td>delivered</td>\n",
       "      <td>29</td>\n",
       "      <td>21.8</td>\n",
       "      <td>87.40</td>\n",
       "      <td>combo</td>\n",
       "      <td>0.00</td>\n",
       "      <td>1</td>\n",
       "      <td>5</td>\n",
       "    </tr>\n",
       "  </tbody>\n",
       "</table>\n",
       "<p>5000 rows × 16 columns</p>\n",
       "</div>"
      ],
      "text/plain": [
       "      macro_bairro           nome_cliente bairro_destino      order_datetime  \\\n",
       "0           Outros            Júlia Ramos     Bela Vista 2024-01-01 15:08:00   \n",
       "1      Santo Amaro     Gustavo R. Rezende    Santo Amaro 2024-01-02 07:49:00   \n",
       "2          Jardins  Valentina Y. Oliveira        Jardins 2024-01-02 10:14:00   \n",
       "3     Vila Olímpia        Mariana Moreira   Vila Olímpia 2024-01-02 10:58:00   \n",
       "4            Moema           Daniel Rocha     Ibirapuera 2024-01-02 12:56:00   \n",
       "...            ...                    ...            ...                 ...   \n",
       "4995         Moema       Natália G. Souza     Ibirapuera 2024-12-31 17:17:00   \n",
       "4996       Morumbi      Yasmin N. Ribeiro        Morumbi 2024-12-31 19:33:00   \n",
       "4997     Pinheiros            Yuri Castro      Pinheiros 2024-12-31 20:12:00   \n",
       "4998         Itaim   Henrique J. Ferreira     Itaim Bibi 2024-12-31 21:14:00   \n",
       "4999         Itaim          Helena Duarte     Itaim Bibi 2024-12-31 21:27:00   \n",
       "\n",
       "          platform order_mode  distance_km  tempo_preparo_minutos     status  \\\n",
       "0            rappi   delivery     6.916192                     34  delivered   \n",
       "1            ifood   delivery     5.753085                     16  delivered   \n",
       "2            ifood   delivery     4.545672                     15  delivered   \n",
       "3     site_proprio   retirada     0.059679                      6  delivered   \n",
       "4     site_proprio   retirada     0.102063                     25  delivered   \n",
       "...            ...        ...          ...                    ...        ...   \n",
       "4995         rappi   delivery     3.231895                     17  delivered   \n",
       "4996      whatsapp   retirada     0.218583                      6  delivered   \n",
       "4997         ifood   delivery     6.389462                     28   canceled   \n",
       "4998         ifood   delivery     4.148569                     14  delivered   \n",
       "4999      whatsapp   retirada     0.286058                     23  delivered   \n",
       "\n",
       "      eta_minutes_quote  actual_delivery_minutes  total_brl classe_pedido  \\\n",
       "0                    50                     62.4     288.01       familia   \n",
       "1                    45                     35.6     125.02         combo   \n",
       "2                    43                     34.5     110.76         combo   \n",
       "3                    19                     14.4      45.16   prato_unico   \n",
       "4                    28                     26.6     123.12         combo   \n",
       "...                 ...                      ...        ...           ...   \n",
       "4995                 37                     29.0      56.43   prato_unico   \n",
       "4996                 18                     10.7      75.58   prato_unico   \n",
       "4997                 47                     67.1     145.75         combo   \n",
       "4998                 40                     32.9      61.36   prato_unico   \n",
       "4999                 29                     21.8      87.40         combo   \n",
       "\n",
       "      platform_commission_pct  num_itens  satisfacao_nivel  \n",
       "0                        0.16          8                 3  \n",
       "1                        0.16          3                 5  \n",
       "2                        0.12          4                 5  \n",
       "3                        0.00          1                 5  \n",
       "4                        0.00          3                 5  \n",
       "...                       ...        ...               ...  \n",
       "4995                     0.16          3                 5  \n",
       "4996                     0.00          2                 5  \n",
       "4997                     0.16          4                 2  \n",
       "4998                     0.16          1                 5  \n",
       "4999                     0.00          1                 5  \n",
       "\n",
       "[5000 rows x 16 columns]"
      ]
     },
     "execution_count": 55,
     "metadata": {},
     "output_type": "execute_result"
    }
   ],
   "source": [
    "df"
   ]
  },
  {
   "cell_type": "markdown",
   "id": "f68a3f93",
   "metadata": {},
   "source": [
    "# Coleta e exploração dos dados"
   ]
  },
  {
   "cell_type": "markdown",
   "id": "b3cb7951",
   "metadata": {},
   "source": [
    "Análise básica"
   ]
  },
  {
   "cell_type": "code",
   "execution_count": 56,
   "id": "48b9ebe0",
   "metadata": {},
   "outputs": [
    {
     "data": {
      "text/plain": [
       "status\n",
       "delivered     4802\n",
       "canceled       180\n",
       "chargeback      18\n",
       "Name: count, dtype: int64"
      ]
     },
     "execution_count": 56,
     "metadata": {},
     "output_type": "execute_result"
    }
   ],
   "source": [
    "df['status'].value_counts()"
   ]
  },
  {
   "cell_type": "code",
   "execution_count": 57,
   "id": "3a86ee29",
   "metadata": {},
   "outputs": [
    {
     "data": {
      "text/plain": [
       "<Axes: xlabel='status'>"
      ]
     },
     "execution_count": 57,
     "metadata": {},
     "output_type": "execute_result"
    },
    {
     "data": {
      "image/png": "[encoded data removed]",
      "text/plain": [
       "<Figure size 640x480 with 1 Axes>"
      ]
     },
     "metadata": {},
     "output_type": "display_data"
    }
   ],
   "source": [
    "sns.barplot(x=df['status'].value_counts().index, y=df['status'].value_counts().values)"
   ]
  },
  {
   "cell_type": "code",
   "execution_count": 58,
   "id": "e29a3183",
   "metadata": {},
   "outputs": [
    {
     "data": {
      "text/plain": [
       "order_mode\n",
       "delivery    4024\n",
       "retirada     976\n",
       "Name: count, dtype: int64"
      ]
     },
     "execution_count": 58,
     "metadata": {},
     "output_type": "execute_result"
    }
   ],
   "source": [
    "df['order_mode'].value_counts()"
   ]
  },
  {
   "cell_type": "code",
   "execution_count": 59,
   "id": "f8935115",
   "metadata": {},
   "outputs": [
    {
     "data": {
      "text/plain": [
       "<Axes: xlabel='order_mode'>"
      ]
     },
     "execution_count": 59,
     "metadata": {},
     "output_type": "execute_result"
    },
    {
     "data": {
      "image/png": "[encoded data removed]",
      "text/plain": [
       "<Figure size 640x480 with 1 Axes>"
      ]
     },
     "metadata": {},
     "output_type": "display_data"
    }
   ],
   "source": [
    "sns.barplot(x=df['order_mode'].value_counts().index, y=df['order_mode'].value_counts().values)"
   ]
  },
  {
   "cell_type": "code",
   "execution_count": 60,
   "id": "198ac6e7",
   "metadata": {},
   "outputs": [
    {
     "data": {
      "text/plain": [
       "platform\n",
       "ifood           2661\n",
       "site_proprio    1052\n",
       "rappi            747\n",
       "whatsapp         540\n",
       "Name: count, dtype: int64"
      ]
     },
     "execution_count": 60,
     "metadata": {},
     "output_type": "execute_result"
    }
   ],
   "source": [
    "df['platform'].value_counts()"
   ]
  },
  {
   "cell_type": "code",
   "execution_count": 61,
   "id": "221b3aac",
   "metadata": {},
   "outputs": [
    {
     "data": {
      "text/plain": [
       "<Axes: xlabel='platform'>"
      ]
     },
     "execution_count": 61,
     "metadata": {},
     "output_type": "execute_result"
    },
    {
     "data": {
      "image/png": "[encoded data removed]",
      "text/plain": [
       "<Figure size 640x480 with 1 Axes>"
      ]
     },
     "metadata": {},
     "output_type": "display_data"
    }
   ],
   "source": [
    "sns.barplot(x=df['platform'].value_counts().index, y=df['platform'].value_counts().values)"
   ]
  },
  {
   "cell_type": "code",
   "execution_count": 62,
   "id": "631cc160",
   "metadata": {},
   "outputs": [
    {
     "data": {
      "text/plain": [
       "classe_pedido\n",
       "prato_unico    2775\n",
       "combo          1716\n",
       "familia         509\n",
       "Name: count, dtype: int64"
      ]
     },
     "execution_count": 62,
     "metadata": {},
     "output_type": "execute_result"
    }
   ],
   "source": [
    "df['classe_pedido'].value_counts()"
   ]
  },
  {
   "cell_type": "code",
   "execution_count": 63,
   "id": "f50a07a1",
   "metadata": {},
   "outputs": [
    {
     "data": {
      "text/plain": [
       "<Axes: xlabel='classe_pedido'>"
      ]
     },
     "execution_count": 63,
     "metadata": {},
     "output_type": "execute_result"
    },
    {
     "data": {
      "image/png": "[encoded data removed]",
      "text/plain": [
       "<Figure size 640x480 with 1 Axes>"
      ]
     },
     "metadata": {},
     "output_type": "display_data"
    }
   ],
   "source": [
    "sns.barplot(x=df['classe_pedido'].value_counts().index, y=df['classe_pedido'].value_counts().values)"
   ]
  },
  {
   "cell_type": "code",
   "execution_count": 64,
   "id": "e4cb23a2",
   "metadata": {},
   "outputs": [
    {
     "data": {
      "text/plain": [
       "macro_bairro\n",
       "Brooklin        881\n",
       "Moema           679\n",
       "Vila Mariana    530\n",
       "Vila Olímpia    516\n",
       "Itaim           497\n",
       "Jardins         403\n",
       "Pinheiros       393\n",
       "Santo Amaro     387\n",
       "Outros          364\n",
       "Morumbi         350\n",
       "Name: count, dtype: int64"
      ]
     },
     "execution_count": 64,
     "metadata": {},
     "output_type": "execute_result"
    }
   ],
   "source": [
    "df['macro_bairro'].value_counts()"
   ]
  },
  {
   "cell_type": "code",
   "execution_count": 65,
   "id": "2e43807a",
   "metadata": {},
   "outputs": [
    {
     "data": {
      "text/plain": [
       "<Axes: xlabel='macro_bairro'>"
      ]
     },
     "execution_count": 65,
     "metadata": {},
     "output_type": "execute_result"
    },
    {
     "data": {
      "image/png": "[encoded data removed]",
      "text/plain": [
       "<Figure size 640x480 with 1 Axes>"
      ]
     },
     "metadata": {},
     "output_type": "display_data"
    }
   ],
   "source": [
    "sns.barplot(x=df['macro_bairro'].value_counts().index, y=df['macro_bairro'].value_counts().values)"
   ]
  },
  {
   "cell_type": "code",
   "execution_count": 79,
   "id": "e8c10be3",
   "metadata": {},
   "outputs": [
    {
     "data": {
      "text/plain": [
       "count    5000.000000\n",
       "mean        3.510049\n",
       "std         2.501186\n",
       "min         0.000002\n",
       "25%         0.982585\n",
       "50%         3.510049\n",
       "75%         5.459546\n",
       "max         9.949973\n",
       "Name: distance_km, dtype: float64"
      ]
     },
     "execution_count": 79,
     "metadata": {},
     "output_type": "execute_result"
    }
   ],
   "source": [
    "df['distance_km'].describe()"
   ]
  },
  {
   "cell_type": "code",
   "execution_count": 103,
   "id": "71eb094d",
   "metadata": {},
   "outputs": [
    {
     "data": {
      "text/plain": [
       "<Axes: ylabel='distance_km'>"
      ]
     },
     "execution_count": 103,
     "metadata": {},
     "output_type": "execute_result"
    },
    {
     "data": {
      "image/png": "[encoded data removed]",
      "text/plain": [
       "<Figure size 640x480 with 1 Axes>"
      ]
     },
     "metadata": {},
     "output_type": "display_data"
    }
   ],
   "source": [
    "sns.boxplot(data=df, y=df['distance_km'])"
   ]
  },
  {
   "cell_type": "code",
   "execution_count": 85,
   "id": "a457f84b",
   "metadata": {},
   "outputs": [
    {
     "data": {
      "text/plain": [
       "<Axes: xlabel='distance_km', ylabel='Count'>"
      ]
     },
     "execution_count": 85,
     "metadata": {},
     "output_type": "execute_result"
    },
    {
     "data": {
      "image/png": "[encoded data removed]",
      "text/plain": [
       "<Figure size 640x480 with 1 Axes>"
      ]
     },
     "metadata": {},
     "output_type": "display_data"
    }
   ],
   "source": [
    "sns.histplot(df['distance_km'], bins=30, kde=True)"
   ]
  },
  {
   "cell_type": "code",
   "execution_count": 43,
   "id": "c6aee9a7",
   "metadata": {},
   "outputs": [
    {
     "data": {
      "text/plain": [
       "count    5000.0000\n",
       "mean       16.4228\n",
       "std         7.9213\n",
       "min         6.0000\n",
       "25%        11.0000\n",
       "50%        15.0000\n",
       "75%        21.0000\n",
       "max        57.0000\n",
       "Name: tempo_preparo_minutos, dtype: float64"
      ]
     },
     "execution_count": 43,
     "metadata": {},
     "output_type": "execute_result"
    }
   ],
   "source": [
    "df['tempo_preparo_minutos'].describe()"
   ]
  },
  {
   "cell_type": "code",
   "execution_count": 104,
   "id": "7808b511",
   "metadata": {},
   "outputs": [
    {
     "data": {
      "text/plain": [
       "<Axes: ylabel='tempo_preparo_minutos'>"
      ]
     },
     "execution_count": 104,
     "metadata": {},
     "output_type": "execute_result"
    },
    {
     "data": {
      "image/png": "[encoded data removed]",
      "text/plain": [
       "<Figure size 640x480 with 1 Axes>"
      ]
     },
     "metadata": {},
     "output_type": "display_data"
    }
   ],
   "source": [
    "sns.boxplot(data=df, y=df['tempo_preparo_minutos'])"
   ]
  },
  {
   "cell_type": "code",
   "execution_count": 86,
   "id": "be41fae2",
   "metadata": {},
   "outputs": [
    {
     "data": {
      "text/plain": [
       "<Axes: xlabel='tempo_preparo_minutos', ylabel='Count'>"
      ]
     },
     "execution_count": 86,
     "metadata": {},
     "output_type": "execute_result"
    },
    {
     "data": {
      "image/png": "[encoded data removed]",
      "text/plain": [
       "<Figure size 640x480 with 1 Axes>"
      ]
     },
     "metadata": {},
     "output_type": "display_data"
    }
   ],
   "source": [
    "sns.histplot(df['tempo_preparo_minutos'], bins=30, kde=True)"
   ]
  },
  {
   "cell_type": "code",
   "execution_count": 44,
   "id": "2f42ee66",
   "metadata": {},
   "outputs": [
    {
     "data": {
      "text/plain": [
       "count    5000.00000\n",
       "mean       37.47840\n",
       "std         8.54654\n",
       "min        12.00000\n",
       "25%        32.00000\n",
       "50%        39.00000\n",
       "75%        44.00000\n",
       "max        59.00000\n",
       "Name: eta_minutes_quote, dtype: float64"
      ]
     },
     "execution_count": 44,
     "metadata": {},
     "output_type": "execute_result"
    }
   ],
   "source": [
    "df['eta_minutes_quote'].describe()"
   ]
  },
  {
   "cell_type": "code",
   "execution_count": 105,
   "id": "87de1a07",
   "metadata": {},
   "outputs": [
    {
     "data": {
      "text/plain": [
       "<Axes: ylabel='eta_minutes_quote'>"
      ]
     },
     "execution_count": 105,
     "metadata": {},
     "output_type": "execute_result"
    },
    {
     "data": {
      "image/png": "[encoded data removed]",
      "text/plain": [
       "<Figure size 640x480 with 1 Axes>"
      ]
     },
     "metadata": {},
     "output_type": "display_data"
    }
   ],
   "source": [
    "sns.boxplot(data=df, y=df['eta_minutes_quote'])"
   ]
  },
  {
   "cell_type": "code",
   "execution_count": 88,
   "id": "07507ed9",
   "metadata": {},
   "outputs": [
    {
     "data": {
      "text/plain": [
       "<Axes: xlabel='eta_minutes_quote', ylabel='Count'>"
      ]
     },
     "execution_count": 88,
     "metadata": {},
     "output_type": "execute_result"
    },
    {
     "data": {
      "image/png": "[encoded data removed]",
      "text/plain": [
       "<Figure size 640x480 with 1 Axes>"
      ]
     },
     "metadata": {},
     "output_type": "display_data"
    }
   ],
   "source": [
    "sns.histplot(df['eta_minutes_quote'], bins=30, kde=True)"
   ]
  },
  {
   "cell_type": "code",
   "execution_count": 125,
   "id": "695a59ff",
   "metadata": {},
   "outputs": [
    {
     "data": {
      "text/plain": [
       "count    5000.000000\n",
       "mean       29.524583\n",
       "std        12.677838\n",
       "min        -5.700000\n",
       "25%        20.600000\n",
       "50%        29.500000\n",
       "75%        37.300000\n",
       "max        76.700000\n",
       "Name: actual_delivery_minutes, dtype: float64"
      ]
     },
     "execution_count": 125,
     "metadata": {},
     "output_type": "execute_result"
    }
   ],
   "source": [
    "df['actual_delivery_minutes'].describe()"
   ]
  },
  {
   "cell_type": "code",
   "execution_count": 128,
   "id": "bbad107e",
   "metadata": {},
   "outputs": [],
   "source": [
    "df.loc[df['actual_delivery_minutes'] < 0, 'actual_delivery_minutes'] = df.loc[df['actual_delivery_minutes'] < 0, 'actual_delivery_minutes'] * -1"
   ]
  },
  {
   "cell_type": "code",
   "execution_count": 129,
   "id": "c699124f",
   "metadata": {},
   "outputs": [
    {
     "data": {
      "text/plain": [
       "count    5000.000000\n",
       "mean       29.531583\n",
       "std        12.661520\n",
       "min         0.000000\n",
       "25%        20.600000\n",
       "50%        29.500000\n",
       "75%        37.300000\n",
       "max        76.700000\n",
       "Name: actual_delivery_minutes, dtype: float64"
      ]
     },
     "execution_count": 129,
     "metadata": {},
     "output_type": "execute_result"
    }
   ],
   "source": [
    "df['actual_delivery_minutes'].describe()"
   ]
  },
  {
   "cell_type": "code",
   "execution_count": 130,
   "id": "5e562947",
   "metadata": {},
   "outputs": [
    {
     "data": {
      "text/plain": [
       "<Axes: ylabel='actual_delivery_minutes'>"
      ]
     },
     "execution_count": 130,
     "metadata": {},
     "output_type": "execute_result"
    },
    {
     "data": {
      "image/png": "[encoded data removed]",
      "text/plain": [
       "<Figure size 640x480 with 1 Axes>"
      ]
     },
     "metadata": {},
     "output_type": "display_data"
    }
   ],
   "source": [
    "sns.boxplot(data=df, y=df['actual_delivery_minutes'])"
   ]
  },
  {
   "cell_type": "code",
   "execution_count": 89,
   "id": "c9b9cb0a",
   "metadata": {},
   "outputs": [
    {
     "data": {
      "text/plain": [
       "<Axes: xlabel='actual_delivery_minutes', ylabel='Count'>"
      ]
     },
     "execution_count": 89,
     "metadata": {},
     "output_type": "execute_result"
    },
    {
     "data": {
      "image/png": "[encoded data removed]",
      "text/plain": [
       "<Figure size 640x480 with 1 Axes>"
      ]
     },
     "metadata": {},
     "output_type": "display_data"
    }
   ],
   "source": [
    "sns.histplot(df['actual_delivery_minutes'], bins=30, kde=True)"
   ]
  },
  {
   "cell_type": "code",
   "execution_count": 46,
   "id": "9ca94617",
   "metadata": {},
   "outputs": [
    {
     "data": {
      "text/plain": [
       "count    5000.000000\n",
       "mean      110.609846\n",
       "std        53.218753\n",
       "min        17.380000\n",
       "25%        72.220000\n",
       "50%        98.470000\n",
       "75%       133.915000\n",
       "max       329.940000\n",
       "Name: total_brl, dtype: float64"
      ]
     },
     "execution_count": 46,
     "metadata": {},
     "output_type": "execute_result"
    }
   ],
   "source": [
    "df['total_brl'].describe()"
   ]
  },
  {
   "cell_type": "code",
   "execution_count": 107,
   "id": "2f06af69",
   "metadata": {},
   "outputs": [
    {
     "data": {
      "text/plain": [
       "<Axes: ylabel='total_brl'>"
      ]
     },
     "execution_count": 107,
     "metadata": {},
     "output_type": "execute_result"
    },
    {
     "data": {
      "image/png": "[encoded data removed]",
      "text/plain": [
       "<Figure size 640x480 with 1 Axes>"
      ]
     },
     "metadata": {},
     "output_type": "display_data"
    }
   ],
   "source": [
    "sns.boxplot(data=df, y=df['total_brl'])"
   ]
  },
  {
   "cell_type": "code",
   "execution_count": 90,
   "id": "bc164450",
   "metadata": {},
   "outputs": [
    {
     "data": {
      "text/plain": [
       "<Axes: xlabel='total_brl', ylabel='Count'>"
      ]
     },
     "execution_count": 90,
     "metadata": {},
     "output_type": "execute_result"
    },
    {
     "data": {
      "image/png": "[encoded data removed]",
      "text/plain": [
       "<Figure size 640x480 with 1 Axes>"
      ]
     },
     "metadata": {},
     "output_type": "display_data"
    }
   ],
   "source": [
    "sns.histplot(df['total_brl'], bins=30, kde=True)"
   ]
  },
  {
   "cell_type": "code",
   "execution_count": 48,
   "id": "b40c3ee5",
   "metadata": {},
   "outputs": [
    {
     "data": {
      "text/plain": [
       "count    5000.000000\n",
       "mean        3.255200\n",
       "std         1.752452\n",
       "min         1.000000\n",
       "25%         2.000000\n",
       "50%         3.000000\n",
       "75%         4.000000\n",
       "max        13.000000\n",
       "Name: num_itens, dtype: float64"
      ]
     },
     "execution_count": 48,
     "metadata": {},
     "output_type": "execute_result"
    }
   ],
   "source": [
    "df['num_itens'].describe()"
   ]
  },
  {
   "cell_type": "code",
   "execution_count": 109,
   "id": "12c1334e",
   "metadata": {},
   "outputs": [
    {
     "data": {
      "text/plain": [
       "<Axes: ylabel='num_itens'>"
      ]
     },
     "execution_count": 109,
     "metadata": {},
     "output_type": "execute_result"
    },
    {
     "data": {
      "image/png": "[encoded data removed]",
      "text/plain": [
       "<Figure size 640x480 with 1 Axes>"
      ]
     },
     "metadata": {},
     "output_type": "display_data"
    }
   ],
   "source": [
    "sns.boxplot(data=df, y=df['num_itens'])"
   ]
  },
  {
   "cell_type": "code",
   "execution_count": 92,
   "id": "adf09b42",
   "metadata": {},
   "outputs": [
    {
     "data": {
      "text/plain": [
       "<Axes: xlabel='num_itens', ylabel='Count'>"
      ]
     },
     "execution_count": 92,
     "metadata": {},
     "output_type": "execute_result"
    },
    {
     "data": {
      "image/png": "[encoded data removed]",
      "text/plain": [
       "<Figure size 640x480 with 1 Axes>"
      ]
     },
     "metadata": {},
     "output_type": "display_data"
    }
   ],
   "source": [
    "sns.histplot(df['num_itens'], bins=30, kde=True)"
   ]
  },
  {
   "cell_type": "code",
   "execution_count": 49,
   "id": "5e32dbd8",
   "metadata": {},
   "outputs": [
    {
     "data": {
      "text/plain": [
       "count    5000.000000\n",
       "mean        4.736400\n",
       "std         0.550432\n",
       "min         1.000000\n",
       "25%         5.000000\n",
       "50%         5.000000\n",
       "75%         5.000000\n",
       "max         5.000000\n",
       "Name: satisfacao_nivel, dtype: float64"
      ]
     },
     "execution_count": 49,
     "metadata": {},
     "output_type": "execute_result"
    }
   ],
   "source": [
    "df['satisfacao_nivel'].describe()"
   ]
  },
  {
   "cell_type": "code",
   "execution_count": 94,
   "id": "8e704db4",
   "metadata": {},
   "outputs": [
    {
     "data": {
      "text/plain": [
       "<Axes: xlabel='satisfacao_nivel', ylabel='Count'>"
      ]
     },
     "execution_count": 94,
     "metadata": {},
     "output_type": "execute_result"
    },
    {
     "data": {
      "image/png": "[encoded data removed]",
      "text/plain": [
       "<Figure size 640x480 with 1 Axes>"
      ]
     },
     "metadata": {},
     "output_type": "display_data"
    }
   ],
   "source": [
    "sns.histplot(df['satisfacao_nivel'])"
   ]
  },
  {
   "cell_type": "markdown",
   "id": "b1ecac9d",
   "metadata": {},
   "source": [
    "Usando groupby"
   ]
  },
  {
   "cell_type": "code",
   "execution_count": 131,
   "id": "69604428",
   "metadata": {},
   "outputs": [
    {
     "data": {
      "text/html": [
       "<div>\n",
       "<style scoped>\n",
       "    .dataframe tbody tr th:only-of-type {\n",
       "        vertical-align: middle;\n",
       "    }\n",
       "\n",
       "    .dataframe tbody tr th {\n",
       "        vertical-align: top;\n",
       "    }\n",
       "\n",
       "    .dataframe thead th {\n",
       "        text-align: right;\n",
       "    }\n",
       "</style>\n",
       "<table border=\"1\" class=\"dataframe\">\n",
       "  <thead>\n",
       "    <tr style=\"text-align: right;\">\n",
       "      <th></th>\n",
       "      <th>macro_bairro</th>\n",
       "      <th>nome_cliente</th>\n",
       "      <th>bairro_destino</th>\n",
       "      <th>order_datetime</th>\n",
       "      <th>platform</th>\n",
       "      <th>order_mode</th>\n",
       "      <th>distance_km</th>\n",
       "      <th>tempo_preparo_minutos</th>\n",
       "      <th>status</th>\n",
       "      <th>eta_minutes_quote</th>\n",
       "      <th>actual_delivery_minutes</th>\n",
       "      <th>total_brl</th>\n",
       "      <th>classe_pedido</th>\n",
       "      <th>platform_commission_pct</th>\n",
       "      <th>num_itens</th>\n",
       "      <th>satisfacao_nivel</th>\n",
       "    </tr>\n",
       "  </thead>\n",
       "  <tbody>\n",
       "    <tr>\n",
       "      <th>0</th>\n",
       "      <td>Outros</td>\n",
       "      <td>Júlia Ramos</td>\n",
       "      <td>Bela Vista</td>\n",
       "      <td>2024-01-01 15:08:00</td>\n",
       "      <td>rappi</td>\n",
       "      <td>delivery</td>\n",
       "      <td>6.916192</td>\n",
       "      <td>34</td>\n",
       "      <td>delivered</td>\n",
       "      <td>50</td>\n",
       "      <td>62.4</td>\n",
       "      <td>288.01</td>\n",
       "      <td>familia</td>\n",
       "      <td>0.16</td>\n",
       "      <td>8</td>\n",
       "      <td>3</td>\n",
       "    </tr>\n",
       "  </tbody>\n",
       "</table>\n",
       "</div>"
      ],
      "text/plain": [
       "  macro_bairro nome_cliente bairro_destino      order_datetime platform  \\\n",
       "0       Outros  Júlia Ramos     Bela Vista 2024-01-01 15:08:00    rappi   \n",
       "\n",
       "  order_mode  distance_km  tempo_preparo_minutos     status  \\\n",
       "0   delivery     6.916192                     34  delivered   \n",
       "\n",
       "   eta_minutes_quote  actual_delivery_minutes  total_brl classe_pedido  \\\n",
       "0                 50                     62.4     288.01       familia   \n",
       "\n",
       "   platform_commission_pct  num_itens  satisfacao_nivel  \n",
       "0                     0.16          8                 3  "
      ]
     },
     "execution_count": 131,
     "metadata": {},
     "output_type": "execute_result"
    }
   ],
   "source": [
    "df.head(1)"
   ]
  },
  {
   "cell_type": "code",
   "execution_count": 140,
   "id": "4a5f92f7",
   "metadata": {},
   "outputs": [
    {
     "data": {
      "text/html": [
       "<div>\n",
       "<style scoped>\n",
       "    .dataframe tbody tr th:only-of-type {\n",
       "        vertical-align: middle;\n",
       "    }\n",
       "\n",
       "    .dataframe tbody tr th {\n",
       "        vertical-align: top;\n",
       "    }\n",
       "\n",
       "    .dataframe thead th {\n",
       "        text-align: right;\n",
       "    }\n",
       "</style>\n",
       "<table border=\"1\" class=\"dataframe\">\n",
       "  <thead>\n",
       "    <tr style=\"text-align: right;\">\n",
       "      <th></th>\n",
       "      <th></th>\n",
       "      <th>PrecoMedio</th>\n",
       "      <th>DesvioPadrao</th>\n",
       "      <th>QtdePedidos</th>\n",
       "    </tr>\n",
       "    <tr>\n",
       "      <th>order_mode</th>\n",
       "      <th>satisfacao_nivel</th>\n",
       "      <th></th>\n",
       "      <th></th>\n",
       "      <th></th>\n",
       "    </tr>\n",
       "  </thead>\n",
       "  <tbody>\n",
       "    <tr>\n",
       "      <th rowspan=\"5\" valign=\"top\">delivery</th>\n",
       "      <th>1</th>\n",
       "      <td>243.51</td>\n",
       "      <td>NaN</td>\n",
       "      <td>1</td>\n",
       "    </tr>\n",
       "    <tr>\n",
       "      <th>2</th>\n",
       "      <td>232.19</td>\n",
       "      <td>38.71</td>\n",
       "      <td>31</td>\n",
       "    </tr>\n",
       "    <tr>\n",
       "      <th>3</th>\n",
       "      <td>204.68</td>\n",
       "      <td>57.50</td>\n",
       "      <td>164</td>\n",
       "    </tr>\n",
       "    <tr>\n",
       "      <th>4</th>\n",
       "      <td>136.20</td>\n",
       "      <td>56.30</td>\n",
       "      <td>792</td>\n",
       "    </tr>\n",
       "    <tr>\n",
       "      <th>5</th>\n",
       "      <td>97.27</td>\n",
       "      <td>41.33</td>\n",
       "      <td>3036</td>\n",
       "    </tr>\n",
       "    <tr>\n",
       "      <th rowspan=\"3\" valign=\"top\">retirada</th>\n",
       "      <th>3</th>\n",
       "      <td>242.83</td>\n",
       "      <td>49.64</td>\n",
       "      <td>9</td>\n",
       "    </tr>\n",
       "    <tr>\n",
       "      <th>4</th>\n",
       "      <td>170.58</td>\n",
       "      <td>68.38</td>\n",
       "      <td>83</td>\n",
       "    </tr>\n",
       "    <tr>\n",
       "      <th>5</th>\n",
       "      <td>104.67</td>\n",
       "      <td>47.68</td>\n",
       "      <td>884</td>\n",
       "    </tr>\n",
       "  </tbody>\n",
       "</table>\n",
       "</div>"
      ],
      "text/plain": [
       "                             PrecoMedio  DesvioPadrao  QtdePedidos\n",
       "order_mode satisfacao_nivel                                       \n",
       "delivery   1                     243.51           NaN            1\n",
       "           2                     232.19         38.71           31\n",
       "           3                     204.68         57.50          164\n",
       "           4                     136.20         56.30          792\n",
       "           5                      97.27         41.33         3036\n",
       "retirada   3                     242.83         49.64            9\n",
       "           4                     170.58         68.38           83\n",
       "           5                     104.67         47.68          884"
      ]
     },
     "execution_count": 140,
     "metadata": {},
     "output_type": "execute_result"
    }
   ],
   "source": [
    "df.groupby(['order_mode', 'satisfacao_nivel']).agg(PrecoMedio=('total_brl', 'mean'),\n",
    "                                                   DesvioPadrao=('total_brl', 'std'),\n",
    "                                                   QtdePedidos=('total_brl', 'count')).round(2)"
   ]
  },
  {
   "cell_type": "code",
   "execution_count": 143,
   "id": "e8f2cf86",
   "metadata": {},
   "outputs": [
    {
     "data": {
      "text/html": [
       "<div>\n",
       "<style scoped>\n",
       "    .dataframe tbody tr th:only-of-type {\n",
       "        vertical-align: middle;\n",
       "    }\n",
       "\n",
       "    .dataframe tbody tr th {\n",
       "        vertical-align: top;\n",
       "    }\n",
       "\n",
       "    .dataframe thead th {\n",
       "        text-align: right;\n",
       "    }\n",
       "</style>\n",
       "<table border=\"1\" class=\"dataframe\">\n",
       "  <thead>\n",
       "    <tr style=\"text-align: right;\">\n",
       "      <th></th>\n",
       "      <th>count</th>\n",
       "      <th>mean</th>\n",
       "      <th>std</th>\n",
       "      <th>min</th>\n",
       "      <th>25%</th>\n",
       "      <th>50%</th>\n",
       "      <th>75%</th>\n",
       "      <th>max</th>\n",
       "    </tr>\n",
       "    <tr>\n",
       "      <th>satisfacao_nivel</th>\n",
       "      <th></th>\n",
       "      <th></th>\n",
       "      <th></th>\n",
       "      <th></th>\n",
       "      <th></th>\n",
       "      <th></th>\n",
       "      <th></th>\n",
       "      <th></th>\n",
       "    </tr>\n",
       "  </thead>\n",
       "  <tbody>\n",
       "    <tr>\n",
       "      <th>1</th>\n",
       "      <td>1.0</td>\n",
       "      <td>243.51</td>\n",
       "      <td>NaN</td>\n",
       "      <td>243.51</td>\n",
       "      <td>243.51</td>\n",
       "      <td>243.51</td>\n",
       "      <td>243.51</td>\n",
       "      <td>243.51</td>\n",
       "    </tr>\n",
       "    <tr>\n",
       "      <th>2</th>\n",
       "      <td>31.0</td>\n",
       "      <td>232.19</td>\n",
       "      <td>38.71</td>\n",
       "      <td>129.43</td>\n",
       "      <td>226.54</td>\n",
       "      <td>243.95</td>\n",
       "      <td>257.02</td>\n",
       "      <td>280.30</td>\n",
       "    </tr>\n",
       "    <tr>\n",
       "      <th>3</th>\n",
       "      <td>173.0</td>\n",
       "      <td>206.66</td>\n",
       "      <td>57.62</td>\n",
       "      <td>76.54</td>\n",
       "      <td>159.30</td>\n",
       "      <td>225.52</td>\n",
       "      <td>251.73</td>\n",
       "      <td>312.68</td>\n",
       "    </tr>\n",
       "    <tr>\n",
       "      <th>4</th>\n",
       "      <td>875.0</td>\n",
       "      <td>139.46</td>\n",
       "      <td>58.39</td>\n",
       "      <td>33.67</td>\n",
       "      <td>95.55</td>\n",
       "      <td>129.05</td>\n",
       "      <td>165.51</td>\n",
       "      <td>329.94</td>\n",
       "    </tr>\n",
       "    <tr>\n",
       "      <th>5</th>\n",
       "      <td>3920.0</td>\n",
       "      <td>98.94</td>\n",
       "      <td>42.95</td>\n",
       "      <td>17.38</td>\n",
       "      <td>68.50</td>\n",
       "      <td>89.48</td>\n",
       "      <td>121.82</td>\n",
       "      <td>291.08</td>\n",
       "    </tr>\n",
       "  </tbody>\n",
       "</table>\n",
       "</div>"
      ],
      "text/plain": [
       "                   count    mean    std     min     25%     50%     75%  \\\n",
       "satisfacao_nivel                                                          \n",
       "1                    1.0  243.51    NaN  243.51  243.51  243.51  243.51   \n",
       "2                   31.0  232.19  38.71  129.43  226.54  243.95  257.02   \n",
       "3                  173.0  206.66  57.62   76.54  159.30  225.52  251.73   \n",
       "4                  875.0  139.46  58.39   33.67   95.55  129.05  165.51   \n",
       "5                 3920.0   98.94  42.95   17.38   68.50   89.48  121.82   \n",
       "\n",
       "                     max  \n",
       "satisfacao_nivel          \n",
       "1                 243.51  \n",
       "2                 280.30  \n",
       "3                 312.68  \n",
       "4                 329.94  \n",
       "5                 291.08  "
      ]
     },
     "execution_count": 143,
     "metadata": {},
     "output_type": "execute_result"
    }
   ],
   "source": [
    "df_groupby = df.groupby(['satisfacao_nivel'])['total_brl']\n",
    "df_groupby.describe().round(2)"
   ]
  },
  {
   "cell_type": "code",
   "execution_count": 146,
   "id": "5bd1b32f",
   "metadata": {},
   "outputs": [
    {
     "data": {
      "text/plain": [
       "<Axes: xlabel='satisfacao_nivel', ylabel='total_brl'>"
      ]
     },
     "execution_count": 146,
     "metadata": {},
     "output_type": "execute_result"
    },
    {
     "data": {
      "image/png": "[encoded data removed]",
      "text/plain": [
       "<Figure size 640x480 with 1 Axes>"
      ]
     },
     "metadata": {},
     "output_type": "display_data"
    }
   ],
   "source": [
    "sns.scatterplot(data=df_groupby.mean().reset_index(), x='satisfacao_nivel', y='total_brl')"
   ]
  }
 ],
 "metadata": {
  "kernelspec": {
   "display_name": ".venv",
   "language": "python",
   "name": "python3"
  },
  "language_info": {
   "codemirror_mode": {
    "name": "ipython",
    "version": 3
   },
   "file_extension": ".py",
   "mimetype": "text/x-python",
   "name": "python",
   "nbconvert_exporter": "python",
   "pygments_lexer": "ipython3",
   "version": "3.13.2"
  }
 },
 "nbformat": 4,
 "nbformat_minor": 5
}
